{
 "cells": [
  {
   "cell_type": "markdown",
   "metadata": {},
   "source": [
    "# Python | day 5 | functions"
   ]
  },
  {
   "cell_type": "markdown",
   "metadata": {},
   "source": [
    "In Python, a function is a group of related statements that performs a specific task."
   ]
  },
  {
   "cell_type": "markdown",
   "metadata": {},
   "source": [
    "https://www.programiz.com/python-programming/function"
   ]
  },
  {
   "cell_type": "markdown",
   "metadata": {},
   "source": [
    "#### Difference between `return` and `print`.\n",
    "\n",
    "Take some minutes to understand the difference between `return` and `print`, it seems to be the same, but they are not and it's important you understand the difference. "
   ]
  },
  {
   "cell_type": "code",
   "execution_count": 3,
   "metadata": {},
   "outputs": [
    {
     "name": "stdout",
     "output_type": "stream",
     "text": [
      "2\n",
      "4\n",
      "8\n"
     ]
    }
   ],
   "source": [
    "def suma(a,b):\n",
    "    print(a)\n",
    "    return a+b\n",
    "\n",
    "print(suma(suma(2,2),4))"
   ]
  },
  {
   "cell_type": "markdown",
   "metadata": {},
   "source": [
    "#### Comments in a function."
   ]
  },
  {
   "cell_type": "code",
   "execution_count": 21,
   "metadata": {},
   "outputs": [],
   "source": [
    "def say_hello(name):\n",
    "    \"\"\"\n",
    "    Given a name as an argument, \n",
    "    the function return a string greeting\n",
    "    the name given. \n",
    "    \"\"\"\n",
    "    return f\"hello {name}\""
   ]
  },
  {
   "cell_type": "code",
   "execution_count": 22,
   "metadata": {},
   "outputs": [
    {
     "output_type": "stream",
     "name": "stdout",
     "text": [
      "hello Clara\n"
     ]
    }
   ],
   "source": [
    "print(say_hello(\"Clara\"))"
   ]
  },
  {
   "cell_type": "code",
   "execution_count": 7,
   "metadata": {},
   "outputs": [
    {
     "name": "stdout",
     "output_type": "stream",
     "text": [
      "Help on function say_hello in module __main__:\n",
      "\n",
      "say_hello(name)\n",
      "    Given a name as an argument, \n",
      "    the function return a string greeting\n",
      "    the name given.\n",
      "\n"
     ]
    }
   ],
   "source": [
    "help(say_hello)"
   ]
  },
  {
   "cell_type": "markdown",
   "metadata": {},
   "source": [
    "### Exercise 1. "
   ]
  },
  {
   "cell_type": "markdown",
   "metadata": {},
   "source": [
    "To solve the following exercises it will be necessary to define a function for each section. You choose the name of those functions unless specified, but make sure you define a single parameter `whichever_list`, when calling the function it will correspond to the variable `info_list`.\n"
   ]
  },
  {
   "cell_type": "code",
   "execution_count": 123,
   "metadata": {},
   "outputs": [],
   "source": [
    "# you can use this list or take yours from Practice 3\n",
    "info_list = [15, 'Recoletos', True, ['Recoletos', 15],  None, '8'] "
   ]
  },
  {
   "cell_type": "markdown",
   "metadata": {},
   "source": [
    "1. Display on the screen `\"I like the tranquility\"` if you like the mountains more and `\"I'd love to live in Malaga\"` if you like the beach more.\n",
    "\n",
    "**Remember you should define a function which do exactly that but for a list called `whichever_list`, the parameter. \n",
    "After you've done that call the funtion giving `info_list` as the argument.**"
   ]
  },
  {
   "cell_type": "code",
   "execution_count": 7,
   "metadata": {},
   "outputs": [
    {
     "output_type": "execute_result",
     "data": {
      "text/plain": [
       "<function __main__.whichever_list()>"
      ]
     },
     "metadata": {},
     "execution_count": 7
    }
   ],
   "source": [
    "#intento 1\n",
    "def whichever_list():\n",
    "    if Answer_to_question == (\"mountains\"):\n",
    "        return a\n",
    "    if Answer_to_question == (\"beach\"):\n",
    "        return b\n",
    "a = \"I like the tranquility\"\n",
    "b = \"I'd love to live in Malaga\"\n",
    "Answer_to_question = input(\"What is better mountain or beach\")\n",
    "whichever_list()"
   ]
  },
  {
   "cell_type": "code",
   "execution_count": 179,
   "metadata": {},
   "outputs": [
    {
     "output_type": "stream",
     "name": "stdout",
     "text": [
      "I'd love to live in Malaga\n"
     ]
    }
   ],
   "source": [
    "#intento 2\n",
    "def funcion_ejemplo1(whichever_list):\n",
    "    for x in info_list:\n",
    "        if x == True:\n",
    "            print(\"I'd love to live in Malaga\")\n",
    "funcion_ejemplo1(whichever_list = info_list) "
   ]
  },
  {
   "cell_type": "markdown",
   "metadata": {},
   "source": [
    "2. Print `\"Today I am tired\"` if you have slept less than 7 hours or `\"Today I conquer the world\"` if you have slept more than 7 hours."
   ]
  },
  {
   "cell_type": "code",
   "execution_count": 181,
   "metadata": {},
   "outputs": [
    {
     "output_type": "stream",
     "name": "stdout",
     "text": [
      "Today I conquer the world\n"
     ]
    }
   ],
   "source": [
    "def funcion_ejemplo1(whichever_list):\n",
    "    c = \"Today I am tired\"\n",
    "    d = \"Today I conquer the world\"\n",
    "    if int(info_list[5]) < 7:\n",
    "        print(c) \n",
    "    if int(info_list[5]) > 7:\n",
    "        print(d)\n",
    "    \n",
    "\n",
    "funcion_ejemplo1(whichever_list = info_list) "
   ]
  },
  {
   "source": [
    "3."
   ],
   "cell_type": "markdown",
   "metadata": {}
  },
  {
   "cell_type": "code",
   "execution_count": 84,
   "metadata": {},
   "outputs": [
    {
     "output_type": "stream",
     "name": "stdout",
     "text": [
      "15\nRecoletos\nTrue\n['Recoletos', 15]\nNone\n8\n"
     ]
    }
   ],
   "source": [
    "def tuplaconvertor(w):\n",
    "    for x in w:\n",
    "        print(x)\n",
    "\n",
    "tuplaconvertor(w = info_list)"
   ]
  },
  {
   "cell_type": "markdown",
   "metadata": {},
   "source": [
    "4. Loop through `whichever_list` to print all the elements it contains concatenated with the string` \"--> OK\" `. This function should return a message saying, `\"everything will be ok\"`. \n"
   ]
  },
  {
   "source": [
    "def con_elements(w):\n",
    "    for x in w:\n",
    "        print(x)\n",
    "        print(\"--> OK\")\n",
    "    return(\"everything will be ok\")\n",
    "\n",
    "con_elements(w=info_list)"
   ],
   "cell_type": "code",
   "metadata": {},
   "execution_count": 117,
   "outputs": [
    {
     "output_type": "stream",
     "name": "stdout",
     "text": [
      "15\n--> OK\nRecoletos\n--> OK\nTrue\n--> OK\n['Recoletos', 15]\n--> OK\nNone\n--> OK\n8\n--> OK\n"
     ]
    },
    {
     "output_type": "execute_result",
     "data": {
      "text/plain": [
       "'everything will be ok'"
      ]
     },
     "metadata": {},
     "execution_count": 117
    }
   ]
  },
  {
   "cell_type": "markdown",
   "metadata": {},
   "source": [
    "5. Loop through `whichever_list` to display all items it contains except the first one. This function should return the first element of the list. "
   ]
  },
  {
   "cell_type": "code",
   "execution_count": 129,
   "metadata": {},
   "outputs": [
    {
     "output_type": "stream",
     "name": "stdout",
     "text": [
      "Recoletos\nTrue\n['Recoletos', 15]\nNone\n8\n"
     ]
    },
    {
     "output_type": "execute_result",
     "data": {
      "text/plain": [
       "15"
      ]
     },
     "metadata": {},
     "execution_count": 129
    }
   ],
   "source": [
    "def items_minus_first(m):\n",
    "    for x in m:\n",
    "        if x != 15:\n",
    "            print(x)\n",
    "    return(info_list[0])\n",
    "\n",
    "\n",
    "items_minus_first(m=info_list)"
   ]
  },
  {
   "cell_type": "markdown",
   "metadata": {},
   "source": [
    "6. Loop through `whichever_list` to display all the items it contains except the last one. This function should return the last element of the list. "
   ]
  },
  {
   "cell_type": "code",
   "execution_count": 131,
   "metadata": {},
   "outputs": [
    {
     "output_type": "stream",
     "name": "stdout",
     "text": [
      "15\nRecoletos\nTrue\n['Recoletos', 15]\nNone\n"
     ]
    },
    {
     "output_type": "execute_result",
     "data": {
      "text/plain": [
       "'8'"
      ]
     },
     "metadata": {},
     "execution_count": 131
    }
   ],
   "source": [
    "def items_minus_last(m):\n",
    "    for x in m:\n",
    "        if x != \"8\":\n",
    "            print(x)\n",
    "    return(info_list[-1])\n",
    "\n",
    "\n",
    "items_minus_last(m=info_list)"
   ]
  },
  {
   "cell_type": "markdown",
   "metadata": {},
   "source": [
    "7. Loop through `whichever_list` to show all the elements it contains except the street number and the hours you've slept."
   ]
  },
  {
   "cell_type": "code",
   "execution_count": 132,
   "metadata": {},
   "outputs": [
    {
     "output_type": "stream",
     "name": "stdout",
     "text": [
      "15\nTrue\n['Recoletos', 15]\nNone\n"
     ]
    }
   ],
   "source": [
    "def items_minus_two(m):\n",
    "    for x in m:\n",
    "        if x != \"Recoletos\" and x != \"8\":\n",
    "            print(x)\n",
    "\n",
    "\n",
    "items_minus_two(m=info_list)"
   ]
  },
  {
   "cell_type": "markdown",
   "metadata": {},
   "source": [
    "8. Loop through `whichever_list` to print all the elements it contains except the first element of the list which is in fourth position (`'Recoletos'`). This function should return the lenght of that element. "
   ]
  },
  {
   "cell_type": "code",
   "execution_count": 139,
   "metadata": {},
   "outputs": [
    {
     "output_type": "execute_result",
     "data": {
      "text/plain": [
       "9"
      ]
     },
     "metadata": {},
     "execution_count": 139
    }
   ],
   "source": [
    "def items_minus_list(m):\n",
    "    for x in m:\n",
    "        if x == m[3][0]:\n",
    "            continue\n",
    "        print(x)\n",
    "    return(len(m[3][0]))\n",
    "\n",
    "\n",
    "items_minus_list(m=info_list)"
   ]
  },
  {
   "cell_type": "code",
   "execution_count": 174,
   "metadata": {},
   "outputs": [
    {
     "output_type": "error",
     "ename": "IndentationError",
     "evalue": "unindent does not match any outer indentation level (<tokenize>, line 4)",
     "traceback": [
      "\u001b[1;36m  File \u001b[1;32m\"<tokenize>\"\u001b[1;36m, line \u001b[1;32m4\u001b[0m\n\u001b[1;33m    range(len(info_list))\u001b[0m\n\u001b[1;37m    ^\u001b[0m\n\u001b[1;31mIndentationError\u001b[0m\u001b[1;31m:\u001b[0m unindent does not match any outer indentation level\n"
     ]
    }
   ],
   "source": [
    "for x in info_list:\n",
    "    if len(x) > 1:\n",
    "        print(x)\n",
    " range(len(info_list))"
   ]
  },
  {
   "cell_type": "markdown",
   "metadata": {},
   "source": [
    "9. Loop through `whichever_list` to show all the elements it contains except the one that contains the information about whether you like the mountains or the beach. The function should return a message saying `\"I love the beach\"` if you prefer the beach and a message saying `\"I love the mountain\"` otherwise. "
   ]
  },
  {
   "cell_type": "code",
   "execution_count": null,
   "metadata": {},
   "outputs": [],
   "source": [
    "info_list = [15, 'Recoletos', True, ['Recoletos', 15],  None, '8'] "
   ]
  },
  {
   "cell_type": "code",
   "execution_count": 161,
   "metadata": {},
   "outputs": [
    {
     "output_type": "stream",
     "name": "stdout",
     "text": [
      "15\nRecoletos\n['Recoletos', 15]\nNone\n8\n"
     ]
    },
    {
     "output_type": "execute_result",
     "data": {
      "text/plain": [
       "'I love the beach'"
      ]
     },
     "metadata": {},
     "execution_count": 161
    }
   ],
   "source": [
    "def items_minus_true(m):\n",
    "    for x in m:\n",
    "        if x != True:\n",
    "            print(x)\n",
    "    for x in m:\n",
    "        if x == True:\n",
    "            return a\n",
    "a = \"I love the beach\"\n",
    "b = \"I love the mountain\"\n",
    "\n",
    "\n",
    "items_minus_true(m=info_list)"
   ]
  },
  {
   "cell_type": "markdown",
   "metadata": {},
   "source": [
    "### Exercise 2. \n",
    "\n",
    "In the case of not being able to solve a question containing the code in a function, try to do it without defining one. "
   ]
  },
  {
   "cell_type": "markdown",
   "metadata": {},
   "source": [
    "1. Create a variable called `zone` and give it the value of **None**. Loop through `whichever_list` and update `zone` to **True** if and only if, you have slept more than 7 hours, you like the beach and the sum of the hours you have slept plus the number of The Bridge is less than 24. For any other case, `zone` will be **False**. This function should return the value of `zone` and will be called `zone_function`.\n"
   ]
  },
  {
   "cell_type": "code",
   "execution_count": 182,
   "metadata": {},
   "outputs": [
    {
     "output_type": "execute_result",
     "data": {
      "text/plain": [
       "[15, 'Recoletos', True, ['Recoletos', 15], None, '8']"
      ]
     },
     "metadata": {},
     "execution_count": 182
    }
   ],
   "source": [
    "info_list"
   ]
  },
  {
   "cell_type": "code",
   "execution_count": 173,
   "metadata": {},
   "outputs": [
    {
     "output_type": "stream",
     "name": "stdout",
     "text": [
      "None\n"
     ]
    },
    {
     "output_type": "execute_result",
     "data": {
      "text/plain": [
       "'zone = True'"
      ]
     },
     "metadata": {},
     "execution_count": 173
    }
   ],
   "source": [
    "def zone_function(m):\n",
    "    for x in m:\n",
    "        if int(m[5]) > 7 and m[2] == True and (int(m[5]) + m[0]) < 24:\n",
    "            return(a)\n",
    "    for x in m:\n",
    "        if int(m[5]) <= 7:\n",
    "            return(b)\n",
    "        \n",
    "zone = None\n",
    "print(zone)\n",
    "a = \"zone = True\"\n",
    "b = \"zone = False\"\n",
    "\n",
    "zone_function(m=info_list)"
   ]
  },
  {
   "cell_type": "code",
   "execution_count": 183,
   "metadata": {},
   "outputs": [
    {
     "output_type": "execute_result",
     "data": {
      "text/plain": [
       "[15, 'Recoletos', True, ['Recoletos', 15], None, '8']"
      ]
     },
     "metadata": {},
     "execution_count": 183
    }
   ],
   "source": [
    "info_list"
   ]
  },
  {
   "cell_type": "code",
   "execution_count": null,
   "metadata": {},
   "outputs": [],
   "source": [
    "def zone_function(m):\n",
    "    cond1 = None\n",
    "    cond2 = None\n",
    "    cond3 = None\n",
    "    k = m[0]\n",
    "\n",
    "    acum = 0\n",
    "    for x in m:\n",
    "        if acum == 5:\n",
    "            cond1 = int(x) > 7\n",
    "            cond3 = (int(x) + k) < 24\n",
    "        elif acum == 2:\n",
    "            cond2 = x == True\n",
    "        acum += 1\n",
    "    \n",
    "    if cond1 and cond2 and cond3:\n",
    "        zone = True\n",
    "    else:\n",
    "        zone = False\n",
    "    \n",
    "    return zone\n",
    "        \n",
    "  zone = True\n",
    "  zone = False\n",
    "  zone_function(m=info_list, zone=zone)  \n"
   ]
  },
  {
   "cell_type": "markdown",
   "metadata": {},
   "source": [
    "2. Define a function called `test_function` that receives only one parameter called `zone_value` and that returns the value of `zone_value` if it is **True**. Once you've defined `test_function` you should call it with the value returned by the `zone_function` as an argument."
   ]
  },
  {
   "cell_type": "code",
   "execution_count": null,
   "metadata": {},
   "outputs": [],
   "source": [
    "def test_function(zone_value):\n",
    "    for x in m:\n",
    "        if x != \"Recoletos\" and x != \"8\":\n",
    "            print(x)\n",
    "\n",
    "\n",
    "items_minus_two(m=info_list)"
   ]
  },
  {
   "cell_type": "markdown",
   "metadata": {},
   "source": [
    "3. Define a function that asks the user if they like the mountain and, if not, call the `zone_function` function."
   ]
  },
  {
   "cell_type": "code",
   "execution_count": null,
   "metadata": {},
   "outputs": [],
   "source": [
    "def mountain_question(m):\n",
    "\n",
    "\n",
    "items_minus_two(m=info_list)"
   ]
  },
  {
   "cell_type": "markdown",
   "metadata": {},
   "source": [
    "### Bonus Track.\n",
    "\n",
    "**This Bonus Track could take you some days, it is very ok, sometimes coding is all about time.**\n",
    "\n",
    "This week, you'll also learn about `.py` files and you will be able to implement this program into that kind of file. Not yet, tho. "
   ]
  },
  {
   "cell_type": "markdown",
   "metadata": {},
   "source": [
    "1. Program **a calculator** that asks for two numbers and two operators on the screen. One operation must be performed first and then another. Try to define as many functions as possible."
   ]
  },
  {
   "cell_type": "code",
   "execution_count": null,
   "metadata": {},
   "outputs": [],
   "source": []
  },
  {
   "cell_type": "markdown",
   "metadata": {},
   "source": [
    "!['ha'](https://i.pinimg.com/originals/c6/4e/fc/c64efc9adaedbf446f328698e8b67388.jpg)"
   ]
  },
  {
   "cell_type": "code",
   "execution_count": null,
   "metadata": {},
   "outputs": [],
   "source": []
  }
 ],
 "metadata": {
  "kernelspec": {
   "name": "python3",
   "display_name": "Python 3.9.0 64-bit",
   "metadata": {
    "interpreter": {
     "hash": "00d0da2beda986aec30816e4cd7fb4d22aa303e0c7be1e29f09be47940c81e46"
    }
   }
  },
  "language_info": {
   "codemirror_mode": {
    "name": "ipython",
    "version": 3
   },
   "file_extension": ".py",
   "mimetype": "text/x-python",
   "name": "python",
   "nbconvert_exporter": "python",
   "pygments_lexer": "ipython3",
   "version": "3.9.0-final"
  }
 },
 "nbformat": 4,
 "nbformat_minor": 4
}