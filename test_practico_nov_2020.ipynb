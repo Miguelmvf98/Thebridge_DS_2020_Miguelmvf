{
 "metadata": {
  "language_info": {
   "codemirror_mode": {
    "name": "ipython",
    "version": 3
   },
   "file_extension": ".py",
   "mimetype": "text/x-python",
   "name": "python",
   "nbconvert_exporter": "python",
   "pygments_lexer": "ipython3",
   "version": "3.9.0-final"
  },
  "orig_nbformat": 2,
  "kernelspec": {
   "name": "python3",
   "display_name": "Python 3.9.0 64-bit",
   "metadata": {
    "interpreter": {
     "hash": "00d0da2beda986aec30816e4cd7fb4d22aa303e0c7be1e29f09be47940c81e46"
    }
   }
  }
 },
 "nbformat": 4,
 "nbformat_minor": 2,
 "cells": [
  {
   "source": [
    "# Test DS-FT Nov 2020\n",
    "\n"
   ],
   "cell_type": "markdown",
   "metadata": {}
  },
  {
   "source": [
    "## Primera parte:\n",
    "\n",
    "https://forms.gle/k1eyHnAXiQFyjk6X7"
   ],
   "cell_type": "markdown",
   "metadata": {}
  },
  {
   "source": [
    "-----------------"
   ],
   "cell_type": "markdown",
   "metadata": {}
  },
  {
   "source": [
    "## Segunda parte, ejercicios prácticos:"
   ],
   "cell_type": "markdown",
   "metadata": {}
  },
  {
   "source": [
    "#### Notas y pruebas de apoyo para contestar las preguntas tipo test\n",
    "Esto no es necesario usarlo, aunque verlo aquí te puede dar la respuesta a alguna de las preguntas tipo test.\n",
    "\n",
    "Cualquier código aunque no esté correcto, nos dirá más de ti, que no escribir nada. "
   ],
   "cell_type": "markdown",
   "metadata": {}
  },
  {
   "cell_type": "code",
   "execution_count": null,
   "metadata": {},
   "outputs": [],
   "source": [
    "# Ejemplo de como queremos ver el código para más de un intento:\n",
    "\n",
    "# intento 1\n",
    "your code\n",
    "# intento 2\n",
    "your code"
   ]
  },
  {
   "cell_type": "code",
   "execution_count": null,
   "metadata": {},
   "outputs": [],
   "source": [
    "# crea todas las celdas que necesites"
   ]
  },
  {
   "cell_type": "code",
   "execution_count": 10,
   "metadata": {},
   "outputs": [
    {
     "output_type": "error",
     "ename": "ValueError",
     "evalue": "could not convert string to float: '67,98'",
     "traceback": [
      "\u001b[1;31m---------------------------------------------------------------------------\u001b[0m",
      "\u001b[1;31mValueError\u001b[0m                                Traceback (most recent call last)",
      "\u001b[1;32m<ipython-input-10-601caf499516>\u001b[0m in \u001b[0;36m<module>\u001b[1;34m\u001b[0m\n\u001b[0;32m      6\u001b[0m \u001b[1;33m\u001b[0m\u001b[0m\n\u001b[0;32m      7\u001b[0m \u001b[1;33m\u001b[0m\u001b[0m\n\u001b[1;32m----> 8\u001b[1;33m \u001b[0mfloat\u001b[0m\u001b[1;33m(\u001b[0m\u001b[1;34m\"67,98\"\u001b[0m\u001b[1;33m)\u001b[0m\u001b[1;33m\u001b[0m\u001b[1;33m\u001b[0m\u001b[0m\n\u001b[0m\u001b[0;32m      9\u001b[0m \u001b[1;33m\u001b[0m\u001b[0m\n\u001b[0;32m     10\u001b[0m \u001b[0miterate\u001b[0m\u001b[1;33m(\u001b[0m\u001b[1;34m\"thebridge\"\u001b[0m\u001b[1;33m)\u001b[0m\u001b[1;33m\u001b[0m\u001b[1;33m\u001b[0m\u001b[0m\n",
      "\u001b[1;31mValueError\u001b[0m: could not convert string to float: '67,98'"
     ]
    }
   ],
   "source": [
    "#Examen teorico Intentos\n",
    "variable = 0\n",
    "variable\n",
    "var = False\n",
    "listaa = [\"a\",\"b\",\"c\",4,5,6]\n",
    "\n",
    "\n",
    "float(\"67,98\")\n",
    "\n"
   ]
  },
  {
   "cell_type": "code",
   "execution_count": 14,
   "metadata": {},
   "outputs": [
    {
     "output_type": "stream",
     "name": "stdout",
     "text": [
      "(0, 't')\n(1, 'h')\n(2, 'e')\n(3, 'b')\n(4, 'r')\n(5, 'i')\n(6, 'd')\n(7, 'g')\n(8, 'e')\n"
     ]
    }
   ],
   "source": [
    "for i in enumerate(\"thebridge\"):\n",
    "    print (i)"
   ]
  },
  {
   "cell_type": "code",
   "execution_count": 20,
   "metadata": {},
   "outputs": [],
   "source": [
    "diction = {1:2, 3:4, 5:6}\n"
   ]
  },
  {
   "cell_type": "code",
   "execution_count": 47,
   "metadata": {},
   "outputs": [
    {
     "output_type": "stream",
     "name": "stdout",
     "text": [
      "4\n"
     ]
    }
   ],
   "source": [
    "print(4)"
   ]
  },
  {
   "cell_type": "code",
   "execution_count": 25,
   "metadata": {},
   "outputs": [
    {
     "output_type": "execute_result",
     "data": {
      "text/plain": [
       "4"
      ]
     },
     "metadata": {},
     "execution_count": 25
    }
   ],
   "source": [
    "diction[3]"
   ]
  },
  {
   "cell_type": "code",
   "execution_count": 21,
   "metadata": {},
   "outputs": [
    {
     "output_type": "stream",
     "name": "stdout",
     "text": [
      "1\n3\n5\n"
     ]
    }
   ],
   "source": [
    "for i in diction:\n",
    "    print (i)"
   ]
  },
  {
   "cell_type": "code",
   "execution_count": 39,
   "metadata": {},
   "outputs": [
    {
     "output_type": "error",
     "ename": "IndentationError",
     "evalue": "expected an indented block (<ipython-input-39-ca2707823071>, line 2)",
     "traceback": [
      "\u001b[1;36m  File \u001b[1;32m\"<ipython-input-39-ca2707823071>\"\u001b[1;36m, line \u001b[1;32m2\u001b[0m\n\u001b[1;33m    \u001b[0m\n\u001b[1;37m    ^\u001b[0m\n\u001b[1;31mIndentationError\u001b[0m\u001b[1;31m:\u001b[0m expected an indented block\n"
     ]
    }
   ],
   "source": [
    "if None:\n",
    "    "
   ]
  },
  {
   "cell_type": "code",
   "execution_count": 46,
   "metadata": {},
   "outputs": [
    {
     "output_type": "execute_result",
     "data": {
      "text/plain": [
       "'esto me suena raro'"
      ]
     },
     "metadata": {},
     "execution_count": 46
    }
   ],
   "source": [
    "dix = {\"key\":[1, 2, 2], \"key\":\"esto me suena raro\"}\n",
    "dix[\"key\"]"
   ]
  },
  {
   "cell_type": "code",
   "execution_count": 41,
   "metadata": {},
   "outputs": [
    {
     "output_type": "execute_result",
     "data": {
      "text/plain": [
       "['texto', 1, 7, 55.78, True]"
      ]
     },
     "metadata": {},
     "execution_count": 41
    }
   ],
   "source": [
    "listas1 = [\"texto\", 1, 7, 55.78, True]\n",
    "listas1"
   ]
  },
  {
   "cell_type": "code",
   "execution_count": 42,
   "metadata": {},
   "outputs": [
    {
     "output_type": "stream",
     "name": "stdout",
     "text": [
      "t\nh\ne\nb\nr\ni\nd\ng\ne\n"
     ]
    }
   ],
   "source": [
    "for i in \"thebridge\":\n",
    "    print (i)"
   ]
  },
  {
   "cell_type": "code",
   "execution_count": 22,
   "metadata": {},
   "outputs": [
    {
     "output_type": "error",
     "ename": "IndexError",
     "evalue": "list index out of range",
     "traceback": [
      "\u001b[1;31m---------------------------------------------------------------------------\u001b[0m",
      "\u001b[1;31mIndexError\u001b[0m                                Traceback (most recent call last)",
      "\u001b[1;32m<ipython-input-22-3046bd57c86f>\u001b[0m in \u001b[0;36m<module>\u001b[1;34m\u001b[0m\n\u001b[0;32m      1\u001b[0m \u001b[0mlistas\u001b[0m \u001b[1;33m=\u001b[0m \u001b[1;33m[\u001b[0m\u001b[1;36m1\u001b[0m\u001b[1;33m,\u001b[0m \u001b[1;36m2\u001b[0m\u001b[1;33m,\u001b[0m \u001b[1;36m3\u001b[0m\u001b[1;33m,\u001b[0m \u001b[1;36m4\u001b[0m\u001b[1;33m,\u001b[0m \u001b[1;36m5\u001b[0m\u001b[1;33m]\u001b[0m\u001b[1;33m\u001b[0m\u001b[1;33m\u001b[0m\u001b[0m\n\u001b[1;32m----> 2\u001b[1;33m \u001b[0mlistas\u001b[0m\u001b[1;33m[\u001b[0m\u001b[0mlen\u001b[0m\u001b[1;33m(\u001b[0m\u001b[0mlistas\u001b[0m\u001b[1;33m)\u001b[0m\u001b[1;33m]\u001b[0m\u001b[1;33m\u001b[0m\u001b[1;33m\u001b[0m\u001b[0m\n\u001b[0m",
      "\u001b[1;31mIndexError\u001b[0m: list index out of range"
     ]
    }
   ],
   "source": [
    "listas = [1, 2, 3, 4, 5]\n",
    "listas[len(listas)]"
   ]
  },
  {
   "cell_type": "code",
   "execution_count": 27,
   "metadata": {},
   "outputs": [
    {
     "output_type": "error",
     "ename": "AttributeError",
     "evalue": "'list' object has no attribute 'sum'",
     "traceback": [
      "\u001b[1;31m---------------------------------------------------------------------------\u001b[0m",
      "\u001b[1;31mAttributeError\u001b[0m                            Traceback (most recent call last)",
      "\u001b[1;32m<ipython-input-27-47fd808550e7>\u001b[0m in \u001b[0;36m<module>\u001b[1;34m\u001b[0m\n\u001b[0;32m      2\u001b[0m \u001b[0mlista_b\u001b[0m \u001b[1;33m=\u001b[0m \u001b[1;33m[\u001b[0m\u001b[1;36m6\u001b[0m\u001b[1;33m,\u001b[0m\u001b[1;36m7\u001b[0m\u001b[1;33m,\u001b[0m\u001b[1;36m8\u001b[0m\u001b[1;33m]\u001b[0m\u001b[1;33m\u001b[0m\u001b[1;33m\u001b[0m\u001b[0m\n\u001b[0;32m      3\u001b[0m \u001b[1;33m\u001b[0m\u001b[0m\n\u001b[1;32m----> 4\u001b[1;33m \u001b[0mlista_a\u001b[0m\u001b[1;33m.\u001b[0m\u001b[0msum\u001b[0m\u001b[1;33m(\u001b[0m\u001b[0mlista_b\u001b[0m\u001b[1;33m)\u001b[0m\u001b[1;33m\u001b[0m\u001b[1;33m\u001b[0m\u001b[0m\n\u001b[0m",
      "\u001b[1;31mAttributeError\u001b[0m: 'list' object has no attribute 'sum'"
     ]
    }
   ],
   "source": [
    "lista_a = [3,4,5]\n",
    "lista_b = [6,7,8]\n",
    "\n",
    "lista_a.sum(lista_b)"
   ]
  },
  {
   "cell_type": "code",
   "execution_count": 29,
   "metadata": {},
   "outputs": [
    {
     "output_type": "error",
     "ename": "NameError",
     "evalue": "name 'rank' is not defined",
     "traceback": [
      "\u001b[1;31m---------------------------------------------------------------------------\u001b[0m",
      "\u001b[1;31mNameError\u001b[0m                                 Traceback (most recent call last)",
      "\u001b[1;32m<ipython-input-29-cddce915d363>\u001b[0m in \u001b[0;36m<module>\u001b[1;34m\u001b[0m\n\u001b[1;32m----> 1\u001b[1;33m \u001b[0mprint\u001b[0m\u001b[1;33m(\u001b[0m\u001b[0mrank\u001b[0m\u001b[1;33m(\u001b[0m\u001b[1;36m100\u001b[0m\u001b[1;33m,\u001b[0m\u001b[1;36m157\u001b[0m\u001b[1;33m)\u001b[0m\u001b[1;33m)\u001b[0m\u001b[1;33m\u001b[0m\u001b[1;33m\u001b[0m\u001b[0m\n\u001b[0m",
      "\u001b[1;31mNameError\u001b[0m: name 'rank' is not defined"
     ]
    }
   ],
   "source": [
    "print(rank(100,157))"
   ]
  },
  {
   "cell_type": "code",
   "execution_count": 33,
   "metadata": {},
   "outputs": [],
   "source": [
    "diccionario = {(2,3,4,(2,\"3\",4)):\"Menudo examen\"}"
   ]
  },
  {
   "cell_type": "code",
   "execution_count": 34,
   "metadata": {},
   "outputs": [
    {
     "output_type": "execute_result",
     "data": {
      "text/plain": [
       "'Menudo examen'"
      ]
     },
     "metadata": {},
     "execution_count": 34
    }
   ],
   "source": [
    "diccionario[(2,3,4,(2,\"3\",4))]"
   ]
  },
  {
   "source": [
    "## Ejercicios prácticos"
   ],
   "cell_type": "markdown",
   "metadata": {}
  },
  {
   "source": [
    "#### Ejercicio 1.\n",
    "En este ejercicio se va a crear una lista con los siguientes elementos. Primero, crearemos las variables que luego añadiremos a la lista. Las variables son las siguientes:\n",
    "\n",
    "1. Crea una variable llamada `num_dni` de tipo Integer que represente el primer número de tu DNI. \n",
    "2. Crea una variable llamada `let_dni` de tipo String y que represente la letra de vuestro DNI.\n",
    "3. Crea una variable llamada `tip_ord` de tipo Boolean True si usas Windows y False si usas Mac.\n",
    "4. Crea una variable llamada `nada` de tipo None cuyo valor sea None.\n",
    "5. Crea una variable llamada `lista_deseo` de tipo List que contenga los cuatro objetos que te llevarías a una isla desierta. Cada elemento ha de ser de tipo String y el tamaño de la lista ha de ser 4.\n",
    "6. Crea una variable llamada `tupla_ropa` de tipo Tuple con la marca de la prenda superior, inferior y calzado que llevas puesto.\n",
    "7. Crea una variable llamada `dict_info` con dos keys y dos values. Una key es 'nombre', teniendo como value vuestro nombre. Otra key es 'edad', teniendo como value vuestra edad.\n",
    "8. Crea una variable llamada `flo_hor` con la hora actual separada por punto en vez de dos puntos. Ejemplo: si son las 10:06, el valor de la variable sería 10.06.\n",
    "\n",
    "Añade todos estos elementos en una lista llamada `lista_examen` en el orden de aparición."
   ],
   "cell_type": "markdown",
   "metadata": {}
  },
  {
   "cell_type": "code",
   "execution_count": 3,
   "metadata": {},
   "outputs": [
    {
     "output_type": "execute_result",
     "data": {
      "text/plain": [
       "[0,\n",
       " 'k',\n",
       " True,\n",
       " None,\n",
       " ['agua', 'cuchillo', 'cuerda', 'cerillas'],\n",
       " ('zara', 'uniqlo', 'nike'),\n",
       " {'nombre': 'Miguel', 'edad': 22},\n",
       " 10.36]"
      ]
     },
     "metadata": {},
     "execution_count": 3
    }
   ],
   "source": [
    " # tu respuesta aquí\n",
    "\n",
    "num_dni = 0\n",
    "let_dni = \"k\"\n",
    "tip_ord = True\n",
    "nada = None\n",
    "lista_deseo = [\"agua\", \"cuchillo\", \"cuerda\", \"cerillas\"]\n",
    "tupla_ropa = (\"zara\", \"uniqlo\", \"nike\")\n",
    "dict_info = {\"nombre\":\"Miguel\", \"edad\": 22}\n",
    "flo_hor = 10.36\n",
    "\n",
    "lista_examen = [num_dni, let_dni, tip_ord, nada, lista_deseo, tupla_ropa, dict_info, flo_hor]\n",
    "lista_examen\n"
   ]
  },
  {
   "source": [
    "#### Ejercicio 2. \n",
    "\n",
    "Para resolver este ejercicio necesitarás la lista del ejercicio anterior (`lista_examen`). Se recomeinda leer cada punto hasta el final antes de resolver el ejercicio.\n",
    "\n",
    "Se repite para que quede aún más claro: **SOLO USAR LA VARIABLE** `lista_examen`. Usar las demás variables se calificará como error.  \n",
    "\n",
    "1. Mostrar por pantalla, sin uso de funciones ni bucles: \n",
    "    - El segundo elemento de `lista_deseo` desde `lista_examen`.\n",
    "    - El calzado que llevas puesto.\n",
    "    - Vuestro nombre.\n",
    "    - La hora almacenada concatenada con vuestra edad y el número de vuestro de DNI. No debe haber espacios entre la concatenación.\n",
    "    - Si tenéis más de 20 años, el primer número de vuestro DNI es mayor a 7 y usas Mac, mostrar la posición 5 de `lista_examen`.\n",
    "    "
   ],
   "cell_type": "markdown",
   "metadata": {}
  },
  {
   "cell_type": "code",
   "execution_count": 4,
   "metadata": {},
   "outputs": [
    {
     "output_type": "execute_result",
     "data": {
      "text/plain": [
       "'cuchillo'"
      ]
     },
     "metadata": {},
     "execution_count": 4
    }
   ],
   "source": [
    "# tu respuesta aquí\n",
    "lista_examen[4][1]"
   ]
  },
  {
   "cell_type": "code",
   "execution_count": 5,
   "metadata": {},
   "outputs": [
    {
     "output_type": "execute_result",
     "data": {
      "text/plain": [
       "'nike'"
      ]
     },
     "metadata": {},
     "execution_count": 5
    }
   ],
   "source": [
    "lista_examen[5][-1]"
   ]
  },
  {
   "cell_type": "code",
   "execution_count": 10,
   "metadata": {},
   "outputs": [
    {
     "output_type": "execute_result",
     "data": {
      "text/plain": [
       "'Miguel'"
      ]
     },
     "metadata": {},
     "execution_count": 10
    }
   ],
   "source": [
    "lista_examen[6][\"nombre\"]"
   ]
  },
  {
   "cell_type": "code",
   "execution_count": 11,
   "metadata": {},
   "outputs": [
    {
     "output_type": "execute_result",
     "data": {
      "text/plain": [
       "'10.36220'"
      ]
     },
     "metadata": {},
     "execution_count": 11
    }
   ],
   "source": [
    "str(lista_examen[-1]) + str(lista_examen[6][\"edad\"]) + str(lista_examen[0])"
   ]
  },
  {
   "cell_type": "code",
   "execution_count": null,
   "metadata": {},
   "outputs": [],
   "source": []
  },
  {
   "source": [
    "2. Mostrar por pantalla, con uso de un bucle `for`:\n",
    "    - Todos los elementos de `lista_examen`.\n",
    "    - Todos los elementos de `lista_deseo` desde `lista_examen`.\n",
    "    - Todos los elementos que ocupen una posición menor a 4 en `lista_examen`.\n"
   ],
   "cell_type": "markdown",
   "metadata": {}
  },
  {
   "cell_type": "code",
   "execution_count": 12,
   "metadata": {},
   "outputs": [
    {
     "output_type": "stream",
     "name": "stdout",
     "text": [
      "0\nk\nTrue\nNone\n['agua', 'cuchillo', 'cuerda', 'cerillas']\n('zara', 'uniqlo', 'nike')\n{'nombre': 'Miguel', 'edad': 22}\n10.36\n"
     ]
    }
   ],
   "source": [
    "# tu respuesta aquí\n",
    "for m in lista_examen:\n",
    "    print (m)"
   ]
  },
  {
   "cell_type": "code",
   "execution_count": 13,
   "metadata": {},
   "outputs": [
    {
     "output_type": "stream",
     "name": "stdout",
     "text": [
      "agua\ncuchillo\ncuerda\ncerillas\n"
     ]
    }
   ],
   "source": [
    "for m in lista_examen[4]:\n",
    "    print (m)"
   ]
  },
  {
   "cell_type": "code",
   "execution_count": 14,
   "metadata": {},
   "outputs": [
    {
     "output_type": "stream",
     "name": "stdout",
     "text": [
      "0\nk\nTrue\n"
     ]
    }
   ],
   "source": [
    "for m in lista_examen:\n",
    "    if m == lista_examen[3]:\n",
    "        break\n",
    "    print(m)"
   ]
  },
  {
   "source": [
    "3. Mostrar por pantalla, con uso de un bucle while: \n",
    "    - Todos los elementos de `tupla_ropa` seguido de la cadena `\"-->\"` y la `posición` (int) que ocupa en la tupla accediendo desde `lista_examen`. Se aconseja utilizar *`enumerate`*.\n",
    "    - Cada key de `dict_info` seguido de la cadena \":\" seguido de su value desde `lista_examen`."
   ],
   "cell_type": "markdown",
   "metadata": {}
  },
  {
   "cell_type": "code",
   "execution_count": 15,
   "metadata": {},
   "outputs": [
    {
     "output_type": "execute_result",
     "data": {
      "text/plain": [
       "[0,\n",
       " 'k',\n",
       " True,\n",
       " None,\n",
       " ['agua', 'cuchillo', 'cuerda', 'cerillas'],\n",
       " ('zara', 'uniqlo', 'nike'),\n",
       " {'nombre': 'Miguel', 'edad': 22},\n",
       " 10.36]"
      ]
     },
     "metadata": {},
     "execution_count": 15
    }
   ],
   "source": [
    "lista_examen"
   ]
  },
  {
   "cell_type": "code",
   "execution_count": 25,
   "metadata": {
    "tags": []
   },
   "outputs": [
    {
     "output_type": "stream",
     "name": "stdout",
     "text": [
      "zara --> 0\nuniqlo --> 1\nnike --> 2\n"
     ]
    }
   ],
   "source": [
    "# tu respuesta aquí\n",
    "acum=0\n",
    "lista_length = len(lista_examen[5])\n",
    "while acum < lista_length:\n",
    "    print(lista_examen[5][acum], \"-->\", acum)\n",
    "    acum +=1\n",
    "\n"
   ]
  },
  {
   "cell_type": "code",
   "execution_count": 32,
   "metadata": {
    "tags": []
   },
   "outputs": [
    {
     "output_type": "stream",
     "name": "stdout",
     "text": [
      "nombre : Miguel\nedad : 22\n"
     ]
    }
   ],
   "source": [
    "while True:\n",
    "    for key, value in lista_examen[6].items():\n",
    "        print(key, ':', value)\n",
    "    break"
   ]
  },
  {
   "source": [
    "#### Ejercicio 3. \n",
    "\n",
    "Crea una clase \"Humano\" que tenga 3 atributos: \"edad\", \"altura\" y \"nombre\". Además, debe contar con dos funciones: \n",
    "\n",
    "- `cumplir_edad`: al llamar a esta función se debe sumar 1 a la edad actual del humano. \n",
    "- `registro_nombre` que recibe parametro \"nuevo_nombre\": al llamar a esta función con un parámetro de entrada, esta función debe cambiar el nombre del humano por el \"nuevo_nombre\"\n",
    "\n",
    "Crea un humano llamado \"Wolfram\" que tiene 23 años de edad y mide 173 centímetros. A \"Wolfram\" nunca le gustó su nombre. Por eso, usa la función correspondiente para cambiarle su nombre por \"Benacio\". Además, hoy es su cumpleaños por lo que usa la función para aumentar su edad. \n",
    "\n",
    "Muestra por pantalla el nombre del humano antes y después de cambiarse de nombre. Muestra también la edad de Benacio antes y después de cumplir años."
   ],
   "cell_type": "markdown",
   "metadata": {}
  },
  {
   "cell_type": "code",
   "execution_count": 55,
   "metadata": {},
   "outputs": [],
   "source": [
    "# tu respuesta aquí\n",
    "class Humano:\n",
    "    def __init__(self, edad, altura, nombre):\n",
    "        self.edad = edad\n",
    "        self.altura = altura\n",
    "        self.nombre = nombre\n",
    "\n",
    "    def cumplir_edad(self, x=1):\n",
    "        self.edad = self.edad + x\n",
    "    \n",
    "    def registro_nombre(self, nuevo_nombre):\n",
    "        self.nombre = nuevo_nombre\n"
   ]
  },
  {
   "cell_type": "code",
   "execution_count": 56,
   "metadata": {},
   "outputs": [],
   "source": [
    "Wolfram = Humano(edad=23, altura=173, nombre=\"Wolfram\")"
   ]
  },
  {
   "cell_type": "code",
   "execution_count": 62,
   "metadata": {},
   "outputs": [],
   "source": [
    "Wolfram.registro_nombre(nuevo_nombre=\"Benacio\")"
   ]
  },
  {
   "cell_type": "code",
   "execution_count": null,
   "metadata": {},
   "outputs": [],
   "source": [
    "Wolfram.cumplir_edad(x=1)"
   ]
  },
  {
   "cell_type": "code",
   "execution_count": 63,
   "metadata": {},
   "outputs": [
    {
     "output_type": "execute_result",
     "data": {
      "text/plain": [
       "<__main__.Humano at 0x21068577d90>"
      ]
     },
     "metadata": {},
     "execution_count": 63
    }
   ],
   "source": [
    "Wolfram"
   ]
  },
  {
   "source": [
    "#### Ejercicio 4. \n",
    "\n",
    "Escribe una función `reverse_number` que reciba dos parámetros. Los parámetros son `cadena` y `n`. `cadena` será un string y `n` un entero. La función debe retornar un string que sea el string `cadena` al revés y que tenga concatenado el número `n` por cada caracter de `cadena`.  \n",
    "\n",
    "*No se permite usar la función built-in `reverse` ni pasar el string `cadena` a otro tipo de variable (como list)* \n",
    "\n",
    "Ejemplos de llamada a la función y lo que devuelve la función:\n",
    "\n",
    "--------\n",
    "\n",
    ">> print(reverse_number(cadena=\"aloh\", n=3))\n",
    "\n",
    ">>> h3o3l3a3\n",
    "\n",
    "--------\n",
    "\n",
    ">> print(reverse_number(cadena=\"otipep\", n=85))\n",
    "\n",
    ">>> p85e85p85i85t85o85\n",
    "\n",
    "\n",
    "\n"
   ],
   "cell_type": "markdown",
   "metadata": {}
  },
  {
   "cell_type": "code",
   "execution_count": 33,
   "metadata": {},
   "outputs": [
    {
     "output_type": "stream",
     "name": "stdout",
     "text": [
      "m4\na4\nn4\no4\n"
     ]
    }
   ],
   "source": [
    "\n",
    "def reverse_number(cadena, n):\n",
    "    cadena_rev = cadena[::-1]\n",
    "    for m in cadena_rev:\n",
    "        \n",
    "\n",
    "reverse_number(cadena=\"mano\", n=4)"
   ]
  },
  {
   "cell_type": "code",
   "execution_count": 53,
   "metadata": {},
   "outputs": [
    {
     "output_type": "stream",
     "name": "stdout",
     "text": [
      "m4a\nm4a\nm4a\nm4a\na4n\na4n\na4n\na4n\nn4o\nn4o\nn4o\nn4o\n"
     ]
    },
    {
     "output_type": "error",
     "ename": "IndexError",
     "evalue": "string index out of range",
     "traceback": [
      "\u001b[1;31m---------------------------------------------------------------------------\u001b[0m",
      "\u001b[1;31mIndexError\u001b[0m                                Traceback (most recent call last)",
      "\u001b[1;32m<ipython-input-53-9d000b7b4f18>\u001b[0m in \u001b[0;36m<module>\u001b[1;34m\u001b[0m\n\u001b[0;32m      4\u001b[0m \u001b[1;32mwhile\u001b[0m \u001b[0macum\u001b[0m \u001b[1;33m<=\u001b[0m \u001b[0mlen\u001b[0m\u001b[1;33m(\u001b[0m\u001b[0mcadena\u001b[0m\u001b[1;33m)\u001b[0m\u001b[1;33m:\u001b[0m\u001b[1;33m\u001b[0m\u001b[1;33m\u001b[0m\u001b[0m\n\u001b[0;32m      5\u001b[0m     \u001b[1;32mfor\u001b[0m \u001b[0mm\u001b[0m \u001b[1;32min\u001b[0m \u001b[0mcadena\u001b[0m\u001b[1;33m:\u001b[0m\u001b[1;33m\u001b[0m\u001b[1;33m\u001b[0m\u001b[0m\n\u001b[1;32m----> 6\u001b[1;33m         \u001b[0mprint\u001b[0m\u001b[1;33m(\u001b[0m\u001b[0mcadena\u001b[0m\u001b[1;33m[\u001b[0m\u001b[0macum\u001b[0m\u001b[1;33m]\u001b[0m \u001b[1;33m+\u001b[0m \u001b[0mstr\u001b[0m\u001b[1;33m(\u001b[0m\u001b[0mn\u001b[0m\u001b[1;33m)\u001b[0m \u001b[1;33m+\u001b[0m \u001b[0mcadena\u001b[0m\u001b[1;33m[\u001b[0m\u001b[0macum\u001b[0m\u001b[1;33m+\u001b[0m\u001b[1;36m1\u001b[0m\u001b[1;33m]\u001b[0m\u001b[1;33m)\u001b[0m\u001b[1;33m\u001b[0m\u001b[1;33m\u001b[0m\u001b[0m\n\u001b[0m\u001b[0;32m      7\u001b[0m     \u001b[0macum\u001b[0m \u001b[1;33m=\u001b[0m \u001b[0macum\u001b[0m \u001b[1;33m+\u001b[0m\u001b[1;36m1\u001b[0m\u001b[1;33m\u001b[0m\u001b[1;33m\u001b[0m\u001b[0m\n",
      "\u001b[1;31mIndexError\u001b[0m: string index out of range"
     ]
    }
   ],
   "source": [
    "cadena=\"mano\"\n",
    "n=4\n",
    "acum=0\n",
    "while acum <= len(cadena):\n",
    "    for m in cadena:\n",
    "        print(cadena[acum] + str(n) + cadena[acum+1])\n",
    "    acum = acum +1\n"
   ]
  },
  {
   "cell_type": "code",
   "execution_count": 45,
   "metadata": {},
   "outputs": [
    {
     "output_type": "execute_result",
     "data": {
      "text/plain": [
       "0"
      ]
     },
     "metadata": {},
     "execution_count": 45
    }
   ],
   "source": []
  },
  {
   "cell_type": "code",
   "execution_count": 39,
   "metadata": {},
   "outputs": [
    {
     "output_type": "stream",
     "name": "stdout",
     "text": [
      "m\na\nn\no\n"
     ]
    }
   ],
   "source": [
    "cadena = \"mano\"\n",
    "cadena_rev = cadena[::-1]\n",
    "length_of_cadena = len(cadena)\n",
    "for x in cadena:\n",
    "    print(x[::-1])"
   ]
  },
  {
   "cell_type": "code",
   "execution_count": 42,
   "metadata": {},
   "outputs": [
    {
     "output_type": "execute_result",
     "data": {
      "text/plain": [
       "'onam'"
      ]
     },
     "metadata": {},
     "execution_count": 42
    }
   ],
   "source": [
    "cadena = \"mano\"\n",
    "cadena_rev = cadena[::-1]\n",
    "cadena_rev\n",
    "\n"
   ]
  },
  {
   "cell_type": "code",
   "execution_count": null,
   "metadata": {},
   "outputs": [],
   "source": []
  }
 ]
}